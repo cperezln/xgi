{
 "cells": [
  {
   "cell_type": "code",
   "execution_count": 1,
   "id": "fb78a0f2-5d28-4b90-8f4a-ba2c3d85cd29",
   "metadata": {},
   "outputs": [
    {
     "name": "stderr",
     "output_type": "stream",
     "text": [
      "/usr/lib/python3/dist-packages/scipy/__init__.py:146: UserWarning: A NumPy version >=1.17.3 and <1.25.0 is required for this version of SciPy (detected version 1.26.0\n",
      "  warnings.warn(f\"A NumPy version >={np_minversion} and <{np_maxversion}\"\n"
     ]
    }
   ],
   "source": [
    "import xgi\n",
    "import numpy as np\n",
    "from itertools import permutations\n",
    "from itertools import combinations"
   ]
  },
  {
   "cell_type": "code",
   "execution_count": 2,
   "id": "3b581fa8-70c3-4eaa-9c0c-009b8a2bd2de",
   "metadata": {},
   "outputs": [
    {
     "data": {
      "text/plain": [
       "<module 'xgi.core.hypergraph' from '/home/cperezln/notebooks/xgi/xgi/xgi/xgi/core/hypergraph.py'>"
      ]
     },
     "execution_count": 2,
     "metadata": {},
     "output_type": "execute_result"
    }
   ],
   "source": [
    "xgi.core.hypergraph"
   ]
  },
  {
   "cell_type": "code",
   "execution_count": 3,
   "id": "b3257bcd-061e-4642-a4e2-325ce6814d04",
   "metadata": {},
   "outputs": [
    {
     "data": {
      "text/plain": [
       "<module 'xgi.core.nuhypergraph' from '/home/cperezln/notebooks/xgi/xgi/xgi/xgi/core/nuhypergraph.py'>"
      ]
     },
     "execution_count": 3,
     "metadata": {},
     "output_type": "execute_result"
    }
   ],
   "source": [
    "xgi.core.nuhypergraph"
   ]
  },
  {
   "cell_type": "code",
   "execution_count": 4,
   "id": "d766ad19-d79a-43ce-97c8-454d7169718a",
   "metadata": {},
   "outputs": [],
   "source": [
    "nuh = xgi.core.nuhypergraph.nuHypergraph(xgi.Hypergraph([[0, 1, 2], [3, 4], [1, 2, 3], [0, 1]]))"
   ]
  },
  {
   "cell_type": "code",
   "execution_count": 5,
   "id": "342bc5e2-f05d-49c7-9bf0-ec459b31efc5",
   "metadata": {},
   "outputs": [],
   "source": [
    "h = xgi.Hypergraph([[0, 1, 2], [3, 4], [1, 2, 3], [0, 1]])"
   ]
  },
  {
   "cell_type": "code",
   "execution_count": 6,
   "id": "3f4c3227-1b59-4e60-9024-f76f64daa49f",
   "metadata": {},
   "outputs": [
    {
     "data": {
      "text/plain": [
       "[{0, 1, 2}, {3, 4}, {1, 2, 3}, {0, 1}]"
      ]
     },
     "execution_count": 6,
     "metadata": {},
     "output_type": "execute_result"
    }
   ],
   "source": [
    "h.edges.members()"
   ]
  },
  {
   "cell_type": "code",
   "execution_count": 7,
   "id": "ffdcf794-6c38-4554-9e87-ff5af62264aa",
   "metadata": {},
   "outputs": [
    {
     "data": {
      "text/plain": [
       "{(0, 1, 2): 1, (3, 4): 1, (1, 2, 3): 1, (0, 1): 1}"
      ]
     },
     "execution_count": 7,
     "metadata": {},
     "output_type": "execute_result"
    }
   ],
   "source": [
    "nuh._ds"
   ]
  },
  {
   "cell_type": "code",
   "execution_count": 8,
   "id": "8ff8456a-7163-40d0-aa4c-0386e337383f",
   "metadata": {},
   "outputs": [
    {
     "name": "stdout",
     "output_type": "stream",
     "text": [
      "[0, 1, 2]\n",
      "[3, 4]\n",
      "[1, 2, 3]\n",
      "[0, 1]\n"
     ]
    }
   ],
   "source": [
    "for ede in h.edges.members():\n",
    "    print(list(ede))"
   ]
  },
  {
   "cell_type": "code",
   "execution_count": 9,
   "id": "f888a1b6-819f-44ee-8227-850b31958cfc",
   "metadata": {},
   "outputs": [
    {
     "data": {
      "text/plain": [
       "{(0, 1), (0, 1, 2), (1, 2, 3), (3, 4)}"
      ]
     },
     "execution_count": 9,
     "metadata": {},
     "output_type": "execute_result"
    }
   ],
   "source": [
    "set(nuh.ds.keys())"
   ]
  },
  {
   "cell_type": "code",
   "execution_count": 10,
   "id": "74b4b784-e0b5-486b-b72b-143c2a15966e",
   "metadata": {},
   "outputs": [],
   "source": [
    "a = xgi.nuHypergraph(h)"
   ]
  },
  {
   "cell_type": "code",
   "execution_count": 11,
   "id": "90af52a1-01c3-469f-9a05-f5fc4b91ae57",
   "metadata": {},
   "outputs": [
    {
     "data": {
      "text/plain": [
       "{(0, 1, 2): 1, (3, 4): 1, (1, 2, 3): 1, (0, 1): 1}"
      ]
     },
     "execution_count": 11,
     "metadata": {},
     "output_type": "execute_result"
    }
   ],
   "source": [
    "a.ds"
   ]
  },
  {
   "cell_type": "code",
   "execution_count": 12,
   "id": "6b5fa1e6-b60b-4bba-8a8f-33464f1878b6",
   "metadata": {},
   "outputs": [
    {
     "data": {
      "text/plain": [
       "3"
      ]
     },
     "execution_count": 12,
     "metadata": {},
     "output_type": "execute_result"
    }
   ],
   "source": [
    "h.edges.size.max()"
   ]
  },
  {
   "cell_type": "code",
   "execution_count": 13,
   "id": "4a1ae6c8-8bb5-464a-9978-08325daa70fd",
   "metadata": {},
   "outputs": [],
   "source": [
    "nuh.uniformize()"
   ]
  },
  {
   "cell_type": "code",
   "execution_count": 14,
   "id": "6c7b7dc3-a011-4bab-9760-17114814317f",
   "metadata": {},
   "outputs": [
    {
     "data": {
      "text/plain": [
       "{(0, 1, 2): 1.0,\n",
       " (3, 4, 5): 0.3333333333333333,\n",
       " (1, 2, 3): 1.0,\n",
       " (0, 1, 5): 0.3333333333333333}"
      ]
     },
     "execution_count": 14,
     "metadata": {},
     "output_type": "execute_result"
    }
   ],
   "source": [
    "nuh.ds"
   ]
  },
  {
   "cell_type": "code",
   "execution_count": 15,
   "id": "b5205c12-7173-4b5d-a958-46f16baf8926",
   "metadata": {},
   "outputs": [
    {
     "data": {
      "text/plain": [
       "[0, 1, 2, 3, 4]"
      ]
     },
     "execution_count": 15,
     "metadata": {},
     "output_type": "execute_result"
    }
   ],
   "source": [
    "list(h.nodes)"
   ]
  },
  {
   "cell_type": "code",
   "execution_count": 16,
   "id": "5632c427-05a6-41d9-ad5d-f013d707b2a0",
   "metadata": {},
   "outputs": [
    {
     "data": {
      "text/plain": [
       "{0, 1, 2, 3, 4, 5}"
      ]
     },
     "execution_count": 16,
     "metadata": {},
     "output_type": "execute_result"
    }
   ],
   "source": [
    "nuh.nodes"
   ]
  },
  {
   "cell_type": "code",
   "execution_count": 17,
   "id": "c2ef0113-5f08-424c-8336-797935ac39bd",
   "metadata": {},
   "outputs": [
    {
     "name": "stderr",
     "output_type": "stream",
     "text": [
      "/home/cperezln/notebooks/xgi/xgi/xgi/xgi/algorithms/centrality.py:236: UserWarning: [0. 0. 0. 0. 0. 0.]\n",
      "  warn(str(new_x))\n"
     ]
    }
   ],
   "source": [
    "c = xgi.algorithms.centrality.h_eigenvector_centrality_nu(nuh)"
   ]
  },
  {
   "cell_type": "code",
   "execution_count": 18,
   "id": "bcb28abe-393e-45a7-b45f-c5b3b2db46fa",
   "metadata": {},
   "outputs": [
    {
     "data": {
      "text/plain": [
       "0.9999999999999998"
      ]
     },
     "execution_count": 18,
     "metadata": {},
     "output_type": "execute_result"
    }
   ],
   "source": [
    "sum(c.values())"
   ]
  },
  {
   "cell_type": "code",
   "execution_count": 19,
   "id": "e2b851ea-867d-467d-a9dd-1d788f565a5a",
   "metadata": {},
   "outputs": [],
   "source": [
    "hyperedge_list = [[0,1], [1,2,3,4], [3,4,5]]\n",
    "nuH = xgi.nuHypergraph(xgi.Hypergraph(hyperedge_list))"
   ]
  },
  {
   "cell_type": "code",
   "execution_count": 20,
   "id": "974ea29d-ae11-42f6-bd4c-e2c187d9dc45",
   "metadata": {},
   "outputs": [
    {
     "data": {
      "text/plain": [
       "{(0, 1): 1, (1, 2, 3, 4): 1, (3, 4, 5): 1}"
      ]
     },
     "execution_count": 20,
     "metadata": {},
     "output_type": "execute_result"
    }
   ],
   "source": [
    "nuH.ds"
   ]
  },
  {
   "cell_type": "code",
   "execution_count": 21,
   "id": "8956e9be-2c39-400d-8efb-8884f5b10468",
   "metadata": {},
   "outputs": [],
   "source": [
    "nuH.uniformize(m = 2)"
   ]
  },
  {
   "cell_type": "code",
   "execution_count": 22,
   "id": "c32e257a-ded5-4ccf-be31-659ec0485d83",
   "metadata": {},
   "outputs": [
    {
     "data": {
      "text/plain": [
       "{0, 1, 2, 3, 4, 5}"
      ]
     },
     "execution_count": 22,
     "metadata": {},
     "output_type": "execute_result"
    }
   ],
   "source": [
    "nuH.nodes"
   ]
  },
  {
   "cell_type": "code",
   "execution_count": 23,
   "id": "94324dc6-77c3-4a2f-994c-04b9069ea4ca",
   "metadata": {},
   "outputs": [
    {
     "data": {
      "text/plain": [
       "{(0, 1): 1.0,\n",
       " (1, 2): 0.08333333333333333,\n",
       " (1, 3): 0.08333333333333333,\n",
       " (1, 4): 0.08333333333333333,\n",
       " (2, 3): 0.08333333333333333,\n",
       " (2, 4): 0.08333333333333333,\n",
       " (3, 4): 0.25,\n",
       " (3, 5): 0.16666666666666666,\n",
       " (4, 5): 0.16666666666666666}"
      ]
     },
     "execution_count": 23,
     "metadata": {},
     "output_type": "execute_result"
    }
   ],
   "source": [
    "nuH.ds"
   ]
  },
  {
   "cell_type": "code",
   "execution_count": 24,
   "id": "15d31965-f04b-44f0-ae07-f210a2c45945",
   "metadata": {},
   "outputs": [],
   "source": [
    "c = xgi.algorithms.centrality.h_eigenvector_centrality_nu(nuH)"
   ]
  },
  {
   "cell_type": "code",
   "execution_count": 25,
   "id": "96b2522e-536d-49d0-8928-6626102e7878",
   "metadata": {},
   "outputs": [
    {
     "data": {
      "text/plain": [
       "{0: 0.2489320489465023,\n",
       " 1: 0.2592194339055467,\n",
       " 2: 0.10383609443402683,\n",
       " 3: 0.1410061920587214,\n",
       " 4: 0.14100619205847886,\n",
       " 5: 0.10600003859672394}"
      ]
     },
     "execution_count": 25,
     "metadata": {},
     "output_type": "execute_result"
    }
   ],
   "source": [
    "c"
   ]
  },
  {
   "cell_type": "code",
   "execution_count": 26,
   "id": "b0f0c430-c772-44c7-be0c-e3ecbbcecf80",
   "metadata": {},
   "outputs": [
    {
     "data": {
      "text/plain": [
       "{0, 1, 2, 3, 4, 5}"
      ]
     },
     "execution_count": 26,
     "metadata": {},
     "output_type": "execute_result"
    }
   ],
   "source": [
    "nuH.nodes"
   ]
  },
  {
   "cell_type": "code",
   "execution_count": 27,
   "id": "6ba53ae2-44d5-4453-a38f-700d88c63a2d",
   "metadata": {},
   "outputs": [
    {
     "data": {
      "text/plain": [
       "1.0"
      ]
     },
     "execution_count": 27,
     "metadata": {},
     "output_type": "execute_result"
    }
   ],
   "source": [
    "sum(c.values())"
   ]
  },
  {
   "cell_type": "code",
   "execution_count": 28,
   "id": "6665fbd6-287e-4888-a047-b51e411e1b8f",
   "metadata": {},
   "outputs": [
    {
     "data": {
      "text/plain": [
       "0.9999999900000002"
      ]
     },
     "execution_count": 28,
     "metadata": {},
     "output_type": "execute_result"
    }
   ],
   "source": [
    "sum([0.41220116, 0.41846788, 0.04324068, 0.05415455, 0.05415455, 0.01778117])"
   ]
  },
  {
   "cell_type": "code",
   "execution_count": 29,
   "id": "59f8406b-2acd-4e39-9d96-409384c00901",
   "metadata": {},
   "outputs": [
    {
     "data": {
      "text/plain": [
       "array([2, 4, 6])"
      ]
     },
     "execution_count": 29,
     "metadata": {},
     "output_type": "execute_result"
    }
   ],
   "source": [
    "2*np.array([1, 2, 3])"
   ]
  },
  {
   "cell_type": "code",
   "execution_count": 30,
   "id": "a6ffa2fe-965f-4df0-a38c-5ea64559574d",
   "metadata": {},
   "outputs": [],
   "source": [
    "def uniform_adjacency_combinatorial_tensor(H, m = None, math_notation = True):\n",
    "    '''\n",
    "    Given a Hypergraph H, returns its adjacency tensor (with the Permutations with Repetions number corresponding to\n",
    "    the number of phantom nodes added).\n",
    "    If the hypergraph is not uniform or m != the dimension of the hyperedges, we uplift the lower-dimensional hyperedges\n",
    "    by introducing a \"phantom node\" (indexed as N+1), and we project down the higher-dimensional hyperedges.\n",
    "    :param h :: Hypergraph:\n",
    "    :param math_notation :: Boolean (wether the first node starst at 0 or 1):\n",
    "    :return t :: (python dictionary, shape):\n",
    "    '''\n",
    "    N = len(H.nodes)\n",
    "    # Find maximum hyperedge dimension\n",
    "    if not m:\n",
    "        m = H.edges.size.max()\n",
    "    else:\n",
    "        assert isinstance(m, int)\n",
    "\n",
    "    if not xgi.is_uniform(H) and H.edges.size.max() <= m:\n",
    "        # In case it isn't uniform AND we are not projecting, we node to add the phantom node\n",
    "        N += 1\n",
    "\n",
    "    shape = tuple(N for _ in range(m))\n",
    "    # Insert edges in the tensor, multiplying them by their combinatorial factor\n",
    "    aux_map = dict()\n",
    "    for hyperedge in H.edges.members():\n",
    "\n",
    "        if math_notation:\n",
    "            hyperedge = {i - 1 for i in hyperedge}\n",
    "            \n",
    "        initial_len = len(hyperedge)\n",
    "        edge = list(hyperedge) # convert to list to add phantom nodes (possibly more than 1)\n",
    "\n",
    "        # Uplift adding an extra node enough times\n",
    "        if len(edge) <= m:\n",
    "            while len(edge) < m:\n",
    "                edge.append(N - 1)\n",
    "            perms = list(permutations(edge))\n",
    "\n",
    "            # Combinatorial factor\n",
    "            entry = np.math.factorial(initial_len)/np.math.factorial(len(edge))\n",
    "\n",
    "        # Projection if higher dimensional\n",
    "        else:\n",
    "            perms = []\n",
    "            for comb in combinations(edge, m):\n",
    "                perms += list(permutations(comb))\n",
    "            entry = 1/len(perms)\n",
    "            \n",
    "        # Add the permutation (uplift) / combination (projection) to the tensor\n",
    "        for indices in perms:\n",
    "\n",
    "            if indices in aux_map:\n",
    "                aux_map[indices] += entry\n",
    "            else:\n",
    "                aux_map[indices] = entry\n",
    "\n",
    "    return aux_map, shape"
   ]
  },
  {
   "cell_type": "code",
   "execution_count": 31,
   "id": "78b2c6a9-1e5e-4b4d-bed2-8cc0f7eef2d4",
   "metadata": {},
   "outputs": [],
   "source": [
    "h  =xgi.Hypergraph(hyperedge_list)"
   ]
  },
  {
   "cell_type": "code",
   "execution_count": 32,
   "id": "17419e17-3407-4138-aae5-0b3fa59e6514",
   "metadata": {
    "scrolled": true
   },
   "outputs": [
    {
     "name": "stderr",
     "output_type": "stream",
     "text": [
      "/tmp/ipykernel_117103/2200882787.py:40: DeprecationWarning: `np.math` is a deprecated alias for the standard library `math` module (Deprecated Numpy 1.25). Replace usages of `np.math` with `math`\n",
      "  entry = np.math.factorial(initial_len)/np.math.factorial(len(edge))\n"
     ]
    }
   ],
   "source": [
    "t = uniform_adjacency_combinatorial_tensor(h, m = 2, math_notation = False)"
   ]
  },
  {
   "cell_type": "code",
   "execution_count": 33,
   "id": "8e6aeeec-2a67-4945-8c29-4ff76303af1c",
   "metadata": {},
   "outputs": [],
   "source": [
    "ini_v = x = np.random.uniform(size=(nuH.num_nodes))"
   ]
  },
  {
   "cell_type": "code",
   "execution_count": 34,
   "id": "e663692d-f6d4-4893-9332-daa4eedba20f",
   "metadata": {},
   "outputs": [
    {
     "data": {
      "text/plain": [
       "({(0, 1): 1.0,\n",
       "  (1, 0): 1.0,\n",
       "  (1, 2): 0.08333333333333333,\n",
       "  (2, 1): 0.08333333333333333,\n",
       "  (1, 3): 0.08333333333333333,\n",
       "  (3, 1): 0.08333333333333333,\n",
       "  (1, 4): 0.08333333333333333,\n",
       "  (4, 1): 0.08333333333333333,\n",
       "  (2, 3): 0.08333333333333333,\n",
       "  (3, 2): 0.08333333333333333,\n",
       "  (2, 4): 0.08333333333333333,\n",
       "  (4, 2): 0.08333333333333333,\n",
       "  (3, 4): 0.25,\n",
       "  (4, 3): 0.25,\n",
       "  (3, 5): 0.16666666666666666,\n",
       "  (5, 3): 0.16666666666666666,\n",
       "  (4, 5): 0.16666666666666666,\n",
       "  (5, 4): 0.16666666666666666},\n",
       " (6, 6))"
      ]
     },
     "execution_count": 34,
     "metadata": {},
     "output_type": "execute_result"
    }
   ],
   "source": [
    "t"
   ]
  },
  {
   "cell_type": "code",
   "execution_count": 42,
   "id": "e94b26c2-f927-47d1-bf30-a3062cfb42f9",
   "metadata": {},
   "outputs": [],
   "source": [
    "nuh = xgi.nuHypergraph(h)"
   ]
  },
  {
   "cell_type": "code",
   "execution_count": 43,
   "id": "e38e9668-4eea-4440-b55d-b048fe329c4a",
   "metadata": {},
   "outputs": [],
   "source": [
    "nuh.uniformize(m=2)"
   ]
  },
  {
   "cell_type": "code",
   "execution_count": 44,
   "id": "d3996ebb-c299-43e3-8208-7fd4331c337c",
   "metadata": {},
   "outputs": [
    {
     "data": {
      "text/plain": [
       "{(0, 1): 1.0,\n",
       " (1, 2): 0.08333333333333333,\n",
       " (1, 3): 0.08333333333333333,\n",
       " (1, 4): 0.08333333333333333,\n",
       " (2, 3): 0.08333333333333333,\n",
       " (2, 4): 0.08333333333333333,\n",
       " (3, 4): 0.25,\n",
       " (3, 5): 0.16666666666666666,\n",
       " (4, 5): 0.16666666666666666}"
      ]
     },
     "execution_count": 44,
     "metadata": {},
     "output_type": "execute_result"
    }
   ],
   "source": [
    "nuh.ds"
   ]
  },
  {
   "cell_type": "code",
   "execution_count": 45,
   "id": "5981fdd1-0a8d-405c-9233-99f3ad0042cf",
   "metadata": {},
   "outputs": [
    {
     "data": {
      "text/plain": [
       "array([0.89804515, 0.26075737, 0.15453206, 0.34482543, 0.4009838 ,\n",
       "       0.15938993])"
      ]
     },
     "execution_count": 45,
     "metadata": {},
     "output_type": "execute_result"
    }
   ],
   "source": [
    "xgi.algorithms.centrality.apply_nu(nuh, ini_v, g = lambda v, x: np.prod(v[list(x)]))"
   ]
  },
  {
   "cell_type": "code",
   "execution_count": 35,
   "id": "1245617b-1f4a-4798-9a6f-67ba8c48592e",
   "metadata": {
    "scrolled": true
   },
   "outputs": [
    {
     "name": "stderr",
     "output_type": "stream",
     "text": [
      "/home/cperezln/notebooks/xgi/xgi/xgi/xgi/algorithms/centrality.py:262: UserWarning: [0. 0. 0. 0. 0. 0.]\n",
      "  warn(str(new_x))\n"
     ]
    },
    {
     "data": {
      "text/plain": [
       "array([1.7960903 , 0.52151474, 0.30906412, 0.68965086, 0.80196761,\n",
       "       0.31877985])"
      ]
     },
     "execution_count": 35,
     "metadata": {},
     "output_type": "execute_result"
    }
   ],
   "source": [
    "xgi.algorithms.centrality.apply_nu_t(t, ini_v, g = lambda v, x: np.prod(v[list(x)]))"
   ]
  },
  {
   "cell_type": "code",
   "execution_count": 36,
   "id": "fd450f17-066f-4a07-9767-4bdce2085a38",
   "metadata": {},
   "outputs": [],
   "source": [
    "def apply(T, x):\n",
    "    '''\n",
    "    Given an nth order tensor T, contract it (n-1) times with vector x\n",
    "    :param T :: (python dictionary, shape):\n",
    "    :param x :: vector (centralities):\n",
    "    :return y :: vector (T*x):\n",
    "    '''\n",
    "    # Product of a tensor and a vector, only taking the non-zero values (using a dictionary)\n",
    "    y = np.zeros(x.shape[0])\n",
    "    for edge, weight in T[0].items():\n",
    "        y[edge[0]] += weight * np.prod(x[list(edge[1:])])\n",
    "    return y"
   ]
  },
  {
   "cell_type": "code",
   "execution_count": 37,
   "id": "c689365d-0aee-40e7-8a8c-fc15f9dedcd7",
   "metadata": {},
   "outputs": [
    {
     "data": {
      "text/plain": [
       "array([0.89804515, 0.26075737, 0.15453206, 0.34482543, 0.4009838 ,\n",
       "       0.15938993])"
      ]
     },
     "execution_count": 37,
     "metadata": {},
     "output_type": "execute_result"
    }
   ],
   "source": [
    "apply(t, ini_v)"
   ]
  },
  {
   "cell_type": "code",
   "execution_count": 38,
   "id": "974bde60-b50d-471c-a170-02c2947901ae",
   "metadata": {},
   "outputs": [
    {
     "data": {
      "text/plain": [
       "array([0.1612014 , 0.89804515, 0.23833205, 0.59048653, 0.36585302,\n",
       "       0.95198443])"
      ]
     },
     "execution_count": 38,
     "metadata": {},
     "output_type": "execute_result"
    }
   ],
   "source": [
    "ini_v"
   ]
  },
  {
   "cell_type": "code",
   "execution_count": 51,
   "id": "33a106b3-0f17-46cb-b782-be99954b29ab",
   "metadata": {},
   "outputs": [],
   "source": [
    "def HEC_ours(T, m=3, niter=100, tol=1e-6, verbose=True):\n",
    "    '''\n",
    "    Given a hypergraph (tensor, in the form of a sparse tensor, (python dictionary, shape)) T, we calculate it HEC using the power method.\n",
    "    :param T :: (python dictionary, shape):\n",
    "    :param m :: Integer (power):\n",
    "    :param niter :: Integer (number of iterations):\n",
    "    '''\n",
    "    converged = False\n",
    "    x = np.ones(T[1][0])\n",
    "    y = apply(T, x)\n",
    "    for i in range(niter):\n",
    "        y_scaled = np.power(y, 1 / m)\n",
    "        x = y_scaled / np.sum(y_scaled)\n",
    "        y = apply(T, x)\n",
    "        s = np.divide(y, np.power(x, m))\n",
    "        converged = (max(s) - min(s)) / min(s) < tol\n",
    "\n",
    "        if converged and verbose:\n",
    "            print('Finished in', i, 'iterations.')\n",
    "            break\n",
    "\n",
    "    return x, converged"
   ]
  },
  {
   "cell_type": "code",
   "execution_count": 52,
   "id": "729b17c7-5181-4e01-8bb0-695eef123095",
   "metadata": {},
   "outputs": [
    {
     "name": "stdout",
     "output_type": "stream",
     "text": [
      "Finished in 17 iterations.\n"
     ]
    },
    {
     "data": {
      "text/plain": [
       "(array([0.24893223, 0.25921923, 0.10383612, 0.1410062 , 0.1410062 ,\n",
       "        0.10600002]),\n",
       " True)"
      ]
     },
     "execution_count": 52,
     "metadata": {},
     "output_type": "execute_result"
    }
   ],
   "source": [
    "HEC_ours(t, m = 2, niter=100000, tol=1e-6, verbose=True)"
   ]
  },
  {
   "cell_type": "code",
   "execution_count": 48,
   "id": "6566b945-b3c6-4a6f-91d3-0a082d547fb1",
   "metadata": {},
   "outputs": [],
   "source": [
    "c = xgi.algorithms.centrality.h_eigenvector_centrality_nu(nuh)"
   ]
  },
  {
   "cell_type": "code",
   "execution_count": 49,
   "id": "ed094b49-2e5d-4c66-920e-7428901b9c66",
   "metadata": {},
   "outputs": [
    {
     "data": {
      "text/plain": [
       "{0: 0.24893204976533487,\n",
       " 1: 0.25921943805760184,\n",
       " 2: 0.10383609385954706,\n",
       " 3: 0.141006190583396,\n",
       " 4: 0.1410061905833934,\n",
       " 5: 0.10600003715072685}"
      ]
     },
     "execution_count": 49,
     "metadata": {},
     "output_type": "execute_result"
    }
   ],
   "source": [
    "c"
   ]
  },
  {
   "cell_type": "code",
   "execution_count": null,
   "id": "7b1e1bdc-8d49-4e32-84f2-0905bb48136d",
   "metadata": {},
   "outputs": [],
   "source": []
  }
 ],
 "metadata": {
  "kernelspec": {
   "display_name": "Python 3 (ipykernel)",
   "language": "python",
   "name": "python3"
  },
  "language_info": {
   "codemirror_mode": {
    "name": "ipython",
    "version": 3
   },
   "file_extension": ".py",
   "mimetype": "text/x-python",
   "name": "python",
   "nbconvert_exporter": "python",
   "pygments_lexer": "ipython3",
   "version": "3.10.12"
  }
 },
 "nbformat": 4,
 "nbformat_minor": 5
}
