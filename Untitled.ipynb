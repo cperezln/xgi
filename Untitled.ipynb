{
 "cells": [
  {
   "cell_type": "code",
   "execution_count": 9,
   "id": "fb78a0f2-5d28-4b90-8f4a-ba2c3d85cd29",
   "metadata": {},
   "outputs": [],
   "source": [
    "from xgi import *"
   ]
  },
  {
   "cell_type": "code",
   "execution_count": 11,
   "id": "3b581fa8-70c3-4eaa-9c0c-009b8a2bd2de",
   "metadata": {},
   "outputs": [
    {
     "data": {
      "text/plain": [
       "<module 'xgi.core.hypergraph' from '/home/cperezln/notebooks/xgi/xgi/xgi/xgi/core/hypergraph.py'>"
      ]
     },
     "execution_count": 11,
     "metadata": {},
     "output_type": "execute_result"
    }
   ],
   "source": [
    "xgi.core.hypergraph"
   ]
  },
  {
   "cell_type": "code",
   "execution_count": null,
   "id": "b3257bcd-061e-4642-a4e2-325ce6814d04",
   "metadata": {},
   "outputs": [],
   "source": []
  }
 ],
 "metadata": {
  "kernelspec": {
   "display_name": "Python 3 (ipykernel)",
   "language": "python",
   "name": "python3"
  },
  "language_info": {
   "codemirror_mode": {
    "name": "ipython",
    "version": 3
   },
   "file_extension": ".py",
   "mimetype": "text/x-python",
   "name": "python",
   "nbconvert_exporter": "python",
   "pygments_lexer": "ipython3",
   "version": "3.10.12"
  }
 },
 "nbformat": 4,
 "nbformat_minor": 5
}
